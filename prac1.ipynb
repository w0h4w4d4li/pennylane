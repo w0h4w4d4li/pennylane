{
 "cells": [
  {
   "cell_type": "code",
   "execution_count": 2,
   "id": "a238bad8-4265-4a57-81b2-18e2d149edd1",
   "metadata": {},
   "outputs": [],
   "source": [
    "import pennylane as qml\n",
    "import numpy as np"
   ]
  },
  {
   "cell_type": "code",
   "execution_count": 7,
   "id": "256ecae4-1829-44b8-94cc-f918a27078c2",
   "metadata": {},
   "outputs": [],
   "source": [
    "state=np.array([0.5, np.sqrt(3)/2*1j])\n",
    "U=np.array([[1/np.sqrt(2), (1/np.sqrt(2))*1j], [1/np.sqrt(2), (-1/np.sqrt(2))*1j]])"
   ]
  },
  {
   "cell_type": "code",
   "execution_count": 161,
   "id": "c3643523-1440-407e-9136-509f439d5094",
   "metadata": {},
   "outputs": [
    {
     "data": {
      "text/plain": [
       "array([0.5+0.5j, 0.5-0.5j])"
      ]
     },
     "execution_count": 161,
     "metadata": {},
     "output_type": "execute_result"
    }
   ],
   "source": [
    "alpha = 1+1j\n",
    "beta = 1-1j\n",
    "\n",
    "amplitude = np.array([alpha, beta], dtype=complex)\n",
    "norm = np.sqrt(np.sum(np.abs(amplitude)**2))\n",
    "normalized = amplitude / norm\n",
    "normalized"
   ]
  },
  {
   "cell_type": "code",
   "execution_count": 167,
   "id": "9fddb3c8-7ffd-4a43-97b3-9a1cefcfd8d0",
   "metadata": {},
   "outputs": [
    {
     "data": {
      "text/plain": [
       "0"
      ]
     },
     "execution_count": 167,
     "metadata": {},
     "output_type": "execute_result"
    }
   ],
   "source": [
    "ket_0 = np.array([1, 0])\n",
    "ket_1 = np.array([0, 1])\n",
    "np.conj(np.transpose(ket_0))@ket_1"
   ]
  },
  {
   "cell_type": "code",
   "execution_count": 233,
   "id": "236bbdd8-eefd-45ad-8bdc-7080d89099b4",
   "metadata": {},
   "outputs": [
    {
     "data": {
      "text/plain": [
       "array([0, 1, 0, 0, 0, 0, 1, 0, 0, 1])"
      ]
     },
     "execution_count": 233,
     "metadata": {},
     "output_type": "execute_result"
    }
   ],
   "source": [
    "num_meas=10\n",
    "state = np.array([0.8, 0.6])\n",
    "c=np.round(num_meas*(np.abs(state)**2)[0])\n",
    "np.random.choice(2,num_meas,p=np.abs(state)**2)"
   ]
  },
  {
   "cell_type": "code",
   "execution_count": 238,
   "id": "f00697ab-e94f-49f4-a8eb-34ef69920cd2",
   "metadata": {},
   "outputs": [
    {
     "name": "stdout",
     "output_type": "stream",
     "text": [
      "[6.123234e-17+0.j 0.000000e+00-1.j]\n",
      "[0.000000e+00-1.j 6.123234e-17+0.j]\n"
     ]
    }
   ],
   "source": [
    "dev = qml.device(\"default.qubit\", wires=1)\n",
    "\n",
    "\n",
    "@qml.qnode(dev)\n",
    "def apply_rx_pi(state):\n",
    "\n",
    "    if state == 1:\n",
    "        qml.PauliX(wires=0)\n",
    "\n",
    "    qml.RX(np.pi, wires=0)\n",
    "\n",
    "    return qml.state()\n",
    "\n",
    "\n",
    "print(apply_rx_pi(0))\n",
    "print(apply_rx_pi(1))"
   ]
  },
  {
   "cell_type": "code",
   "execution_count": 130,
   "id": "77933f2a-ace7-49ff-830b-7459af81e1c8",
   "metadata": {},
   "outputs": [
    {
     "data": {
      "text/plain": [
       "array([0.35355339+0.61237244j, 0.61237244+0.35355339j])"
      ]
     },
     "execution_count": 130,
     "metadata": {},
     "output_type": "execute_result"
    }
   ],
   "source": [
    "state=np.array([0.5, complex(0,np.sqrt(3)/2)])\n",
    "state=state/np.linalg.norm(state)\n",
    "U=np.array([[1/np.sqrt(2), 1/np.sqrt(2)], [complex(0,1/np.sqrt(2)), complex(0,-1/np.sqrt(2))]])\n",
    "dev = qml.device(\"default.qubit\", wires=1)\n",
    "@qml.qnode(dev)\n",
    "def op():\n",
    "    qml.StatePrep(state, wires=0)\n",
    "    qml.QubitUnitary(U, wires=0)\n",
    "    return qml.state()\n",
    "op()"
   ]
  },
  {
   "cell_type": "code",
   "execution_count": null,
   "id": "1f3d735d-70ea-4af5-a212-078bc062d933",
   "metadata": {},
   "outputs": [],
   "source": []
  },
  {
   "cell_type": "code",
   "execution_count": null,
   "id": "a67791a2-fbe4-4a27-b49c-8151f6cc0749",
   "metadata": {},
   "outputs": [],
   "source": []
  }
 ],
 "metadata": {
  "kernelspec": {
   "display_name": "Python 3 (ipykernel)",
   "language": "python",
   "name": "python3"
  },
  "language_info": {
   "codemirror_mode": {
    "name": "ipython",
    "version": 3
   },
   "file_extension": ".py",
   "mimetype": "text/x-python",
   "name": "python",
   "nbconvert_exporter": "python",
   "pygments_lexer": "ipython3",
   "version": "3.12.3"
  }
 },
 "nbformat": 4,
 "nbformat_minor": 5
}
