{
 "cells": [
  {
   "cell_type": "code",
   "execution_count": 1,
   "id": "00426c0b-3d09-4fc4-8617-0999e7c564db",
   "metadata": {},
   "outputs": [],
   "source": [
    "import pennylane as qml\n",
    "import numpy as np"
   ]
  },
  {
   "cell_type": "code",
   "execution_count": 3,
   "id": "5327811e-c0d6-463d-9d7b-8ffc9b9fd2a5",
   "metadata": {},
   "outputs": [
    {
     "data": {
      "text/plain": [
       "array([[0.5, 0.5],\n",
       "       [0.5, 0.5],\n",
       "       [0.5, 0.5]])"
      ]
     },
     "execution_count": 3,
     "metadata": {},
     "output_type": "execute_result"
    }
   ],
   "source": [
    "np.ones((3, 2)) * 0.5"
   ]
  },
  {
   "cell_type": "code",
   "execution_count": null,
   "id": "f4d165be-3af4-43f6-bc93-aa5691bf5869",
   "metadata": {},
   "outputs": [],
   "source": [
    "n_wires = 1\n",
    "dev = qml.device(\"default.qubit\", wires=n_wires)\n",
    "p=3\n",
    "cost_h=qml.Hamiltonian([1], [qml.PauliZ(0)])\n",
    "mixer_h=qml.Hamiltonian([1], [qml.PauliX(0)])\n",
    "params=np.ones((p, 2),requires_grad=True) * 0.5\n",
    "\n",
    "def qaoa_layer(params,cost_h):\n",
    "    \"\"\"Implement one QAOA layer alternating H_C and H_M.\n",
    "\n",
    "    Args:\n",
    "        params (np.array): An array with the trainable parameters of the QAOA ansatz.\n",
    "        cost_h (qml.Hamiltonian): The cost Hamiltonian\n",
    "    \"\"\"  \n",
    "    qml.qaoa.cost_layer(params[0], cost_h)\n",
    "    qml.qaoa.mixer_layer(params[1], mixer_h)\n",
    "    \n",
    "def qaoa_circuit(params,p,cost_h):\n",
    "    \"\"\"Implement the initial state and p layers of the QAOA ansatz.\n",
    "\n",
    "    Args:\n",
    "        params (np.array): An array with the trainable parameters of the QAOA ansatz.\n",
    "        p (int): Number of layers of the QAOA ansatz.\n",
    "        cost_h (qml.Hamiltonian): The cost Hamiltonian\n",
    "    \"\"\"\n",
    "    qml.layer(qaoa_layer, p, params=params, cost_h=cost_h)\n",
    "\n",
    "@qml.qnode(dev)\n",
    "def probability_circuit(params,p,cost_h):\n",
    "    \"\"\"QAOA circuit which returns the probabilities.\n",
    "    Args:\n",
    "        params (np.array): An array with the trainable parameters of the QAOA ansatz.\n",
    "        p (int): Number of layers of the QAOA ansatz.\n",
    "        cost_h (qml.Hamiltonian): The cost Hamiltonian\n",
    "    Returns:\n",
    "        (np.tensor): A tensor with the probabilities of measuring the quantum states.\n",
    "    \"\"\"  \n",
    "    qml.Hadamard(0)\n",
    "    qaoa_circuit(params,p,cost_h)\n",
    "    return qml.probs(wires=0)"
   ]
  },
  {
   "cell_type": "code",
   "execution_count": null,
   "id": "aaae4856-ea3b-4da6-a5a5-f8926964a9dd",
   "metadata": {},
   "outputs": [],
   "source": []
  }
 ],
 "metadata": {
  "kernelspec": {
   "display_name": "Python 3 (ipykernel)",
   "language": "python",
   "name": "python3"
  },
  "language_info": {
   "codemirror_mode": {
    "name": "ipython",
    "version": 3
   },
   "file_extension": ".py",
   "mimetype": "text/x-python",
   "name": "python",
   "nbconvert_exporter": "python",
   "pygments_lexer": "ipython3",
   "version": "3.12.3"
  }
 },
 "nbformat": 4,
 "nbformat_minor": 5
}
