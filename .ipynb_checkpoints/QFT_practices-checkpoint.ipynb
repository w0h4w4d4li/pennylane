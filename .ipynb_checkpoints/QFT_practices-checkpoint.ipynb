{
 "cells": [
  {
   "cell_type": "code",
   "execution_count": 2,
   "id": "a8921c29-18d4-4986-87a7-9aab3108b43f",
   "metadata": {},
   "outputs": [],
   "source": [
    "import numpy as np\n",
    "import pennylane"
   ]
  },
  {
   "cell_type": "code",
   "execution_count": 3,
   "id": "8b6ef721-44b8-479f-9051-ec988a3b3867",
   "metadata": {},
   "outputs": [
    {
     "name": "stdout",
     "output_type": "stream",
     "text": [
      "[10.+0.j  2.-2.j  2.+0.j  2.+2.j]\n"
     ]
    }
   ],
   "source": [
    "def coefficients_to_values(coefficients):\n",
    "    \"\"\"Returns the value representation of a polynomial\n",
    "    \n",
    "    Args:\n",
    "        coefficients (array[complex]): a 1-D array of complex \n",
    "            coefficients of a polynomial with \n",
    "            index i representing the i-th degree coefficient\n",
    "\n",
    "    Returns: \n",
    "        array[complex]: the value representation of the \n",
    "            polynomial \n",
    "    \"\"\"\n",
    "    return np.fft.fft(coefficients)\n",
    "\n",
    "A = [4, 3, 2, 1]\n",
    "print(coefficients_to_values(A))"
   ]
  },
  {
   "cell_type": "code",
   "execution_count": 12,
   "id": "f0cec870-37a2-407d-9f13-8048cdcaa28b",
   "metadata": {},
   "outputs": [
    {
     "data": {
      "text/plain": [
       "3"
      ]
     },
     "execution_count": 12,
     "metadata": {},
     "output_type": "execute_result"
    }
   ],
   "source": [
    "np.ceil(np.log2(8)).astype(int)"
   ]
  },
  {
   "cell_type": "code",
   "execution_count": null,
   "id": "73c7905e-4fe6-433d-a104-d7ef6b499a85",
   "metadata": {},
   "outputs": [],
   "source": [
    "np.pad([2,3,4],(0,2),mode='constant')"
   ]
  },
  {
   "cell_type": "code",
   "execution_count": null,
   "id": "9c903780-6d16-49da-8bb9-060bb138eded",
   "metadata": {},
   "outputs": [],
   "source": [
    "def fft_multiplication(poly_a, poly_b):\n",
    "    \"\"\"Returns the result of multiplying two polynomials\n",
    "    \n",
    "    Args:\n",
    "        poly_a (array[complex]): 1-D array of coefficients \n",
    "        poly_b (array[complex]): 1-D array of coefficients \n",
    "\n",
    "    Returns: \n",
    "        array[complex]: complex coefficients of the product\n",
    "            of the polynomials\n",
    "    \"\"\"\n",
    "    ##################\n",
    "    # YOUR CODE HERE #\n",
    "    ################## \n",
    "\n",
    "    # Calculate the number of values required\n",
    "    nv=len(poly_a)+len(poly_b)-2\n",
    "\n",
    "    # Figure out the nearest power of 2\n",
    "    l=nearest_power_of_2(nv+1)\n",
    "    \n",
    "    # Pad zeros to the polynomial\n",
    "    poly_a=np.pad(poly_a,(0,l-len(poly_a)),mode='constant')\n",
    "    poly_b=np.pad(poly_b,(0,l-len(poly_b)),mode='constant')\n",
    "\n",
    "    # Convert the polynomials to value representation \n",
    "    v_a=coefficients_to_values(poly_a)\n",
    "    v_b=coefficients_to_values(poly_b)\n",
    "\n",
    "    # Multiply\n",
    "    multi=v_a*v_b\n",
    "\n",
    "    # Convert back to coefficient representation\n",
    "    return values_to_coefficients(multi)"
   ]
  }
 ],
 "metadata": {
  "kernelspec": {
   "display_name": "Python 3 (ipykernel)",
   "language": "python",
   "name": "python3"
  },
  "language_info": {
   "codemirror_mode": {
    "name": "ipython",
    "version": 3
   },
   "file_extension": ".py",
   "mimetype": "text/x-python",
   "name": "python",
   "nbconvert_exporter": "python",
   "pygments_lexer": "ipython3",
   "version": "3.12.3"
  }
 },
 "nbformat": 4,
 "nbformat_minor": 5
}
