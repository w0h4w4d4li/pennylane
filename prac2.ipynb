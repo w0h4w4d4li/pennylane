{
 "cells": [
  {
   "cell_type": "code",
   "execution_count": 1,
   "id": "ed6eb6e7-87b5-4157-86a5-6e6a2b66e01b",
   "metadata": {},
   "outputs": [],
   "source": [
    "import pennylane as qml\n",
    "import numpy as np"
   ]
  },
  {
   "cell_type": "code",
   "execution_count": 29,
   "id": "c311e65f-1f0d-47d7-8123-ef20521a7dc7",
   "metadata": {},
   "outputs": [
    {
     "name": "stdout",
     "output_type": "stream",
     "text": [
      "Output state = [0.+0.j 0.+0.j 0.+0.j 1.+0.j 0.+0.j 0.+0.j 0.+0.j 0.+0.j]\n"
     ]
    }
   ],
   "source": [
    "num_wires = 3\n",
    "dev = qml.device(\"default.qubit\", wires=num_wires)\n",
    "\n",
    "\n",
    "@qml.qnode(dev)\n",
    "def make_basis_state(basis_id):\n",
    "    for i, s in enumerate(np.binary_repr(basis_id, width=3)):\n",
    "        if s==\"1\":\n",
    "            qml.PauliX(wires=i)\n",
    "\n",
    "    return qml.state()\n",
    "\n",
    "\n",
    "basis_id = 3\n",
    "print(f\"Output state = {make_basis_state(basis_id)}\")"
   ]
  },
  {
   "cell_type": "code",
   "execution_count": null,
   "id": "448cacfa-5ec8-4a04-bc4f-31330fc38fb8",
   "metadata": {},
   "outputs": [],
   "source": [
    "dev = qml.device(\"default.qubit\", wires=2)\n",
    "\n",
    "\n",
    "@qml.qnode(dev)\n",
    "def create_one_minus():\n",
    "    ##################\n",
    "    # YOUR CODE HERE #\n",
    "    ##################\n",
    "\n",
    "    # PREPARE |1>|->\n",
    "    qml.PauliX(wires=0)\n",
    "    qml.PauliX(wires=1)\n",
    "    qml.Hadamard(wires=1)\n",
    "\n",
    "    # RETURN A SINGLE EXPECTATION VALUE Z \\otimes X\n",
    "\n",
    "    return qml.expval(qml.PauliZ(wires=0)@qml.PauliX(wires=1))\n",
    "\n",
    "\n",
    "print(create_one_minus())"
   ]
  },
  {
   "cell_type": "code",
   "execution_count": 157,
   "id": "4756c09f-b0d8-4eb1-bd16-cc61d49fb684",
   "metadata": {},
   "outputs": [
    {
     "data": {
      "text/plain": [
       "array([ True, False, False,  True, False,  True, False, False, False,\n",
       "       False, False,  True, False, False,  True, False, False, False,\n",
       "       False, False,  True,  True, False, False, False, False, False,\n",
       "       False,  True, False, False, False, False, False,  True, False,\n",
       "        True, False, False, False, False, False, False, False,  True,\n",
       "       False, False, False, False, False, False, False,  True, False,\n",
       "       False, False, False, False,  True,  True, False, False, False,\n",
       "       False,  True, False, False, False, False, False, False, False,\n",
       "       False, False, False, False, False, False, False,  True, False,\n",
       "       False, False, False, False, False, False, False, False, False,\n",
       "        True,  True, False, False,  True, False, False, False, False,\n",
       "        True])"
      ]
     },
     "execution_count": 157,
     "metadata": {},
     "output_type": "execute_result"
    }
   ],
   "source": [
    "dev = qml.device(\"default.qubit\", wires=2)\n",
    "\n",
    "\n",
    "@qml.qnode(dev)\n",
    "def circuit_1(theta):\n",
    "    \"\"\"Implement the circuit and measure Z I and I Z.\n",
    "\n",
    "    Args:\n",
    "        theta (float): a rotation angle.\n",
    "\n",
    "    Returns:\n",
    "        float, float: The expectation values of the observables Z I, and I Z\n",
    "    \"\"\"\n",
    "    qml.RX(theta, wires=0)\n",
    "    qml.RY(2*theta, wires=1)\n",
    "    \n",
    "    return (qml.expval(qml.PauliZ(wires=0)) , qml.expval(qml.PauliZ(wires=1)))\n",
    "\n",
    "\n",
    "@qml.qnode(dev)\n",
    "def circuit_2(theta):\n",
    "    \"\"\"Implement the circuit and measure Z Z.\n",
    "\n",
    "    Args:\n",
    "        theta (float): a rotation angle.\n",
    "\n",
    "    Returns:\n",
    "        float: The expectation value of the observable Z Z\n",
    "    \"\"\"\n",
    "    qml.RX(theta, wires=0)\n",
    "    qml.RY(2*theta, wires=1)\n",
    "\n",
    "    return qml.expval(qml.PauliZ(wires=0)@qml.PauliZ(wires=1))\n",
    "\n",
    "\n",
    "def zi_iz_combination(ZI_results, IZ_results):\n",
    "    \"\"\"Implement a function that acts on the ZI and IZ results to\n",
    "    produce the ZZ results. How do you think they should combine?\n",
    "\n",
    "    Args:\n",
    "        ZI_results (np.array[float]): Results from the expectation value of\n",
    "            ZI in circuit_1.\n",
    "        IZ_results (np.array[float]): Results from the expectation value of\n",
    "            IZ in circuit_2.\n",
    "\n",
    "    Returns:\n",
    "        np.array[float]: A combination of ZI_results and IZ_results that\n",
    "        produces results equivalent to measuring ZZ.\n",
    "    \"\"\"\n",
    "\n",
    "    combined_results = np.zeros(len(ZI_results))\n",
    "\n",
    "    \n",
    "    combined_results = ZI_results @ np.transpose(IZ_results)\n",
    "    return combined_results\n",
    "\n",
    "\n",
    "theta = np.linspace(0, 2 * np.pi, 100)\n",
    "\n",
    "# Run circuit 1, and process the results\n",
    "circuit_1_results = np.array([circuit_1(t) for t in theta])\n",
    "\n",
    "ZI_results = circuit_1_results[:, 0]\n",
    "IZ_results = circuit_1_results[:, 1]\n",
    "combined_results = zi_iz_combination(ZI_results, IZ_results)\n",
    "\n",
    "# Run circuit 2\n",
    "ZZ_results = np.array([circuit_2(t) for t in theta])\n",
    "\n",
    "# Plot your results\n",
    "# plot = plotter(theta, ZI_results, IZ_results, ZZ_results, combined_results)\n",
    "IZ_results * ZI_results == ZZ_results"
   ]
  },
  {
   "cell_type": "code",
   "execution_count": 154,
   "id": "24a53eac-4ee4-405c-a3a6-7b58d03092d9",
   "metadata": {},
   "outputs": [
    {
     "data": {
      "text/plain": [
       "-0.12914139078520054"
      ]
     },
     "execution_count": 154,
     "metadata": {},
     "output_type": "execute_result"
    }
   ],
   "source": [
    "(IZ_results * ZI_results)[14]"
   ]
  },
  {
   "cell_type": "code",
   "execution_count": 155,
   "id": "64812831-7f17-47b7-9c5d-24682730c3a9",
   "metadata": {},
   "outputs": [
    {
     "data": {
      "text/plain": [
       "-0.12914139078520054"
      ]
     },
     "execution_count": 155,
     "metadata": {},
     "output_type": "execute_result"
    }
   ],
   "source": [
    "ZZ_results[14]"
   ]
  },
  {
   "cell_type": "code",
   "execution_count": 160,
   "id": "037c43de-eb7e-4478-83e6-623ad6d6ce54",
   "metadata": {},
   "outputs": [
    {
     "name": "stdout",
     "output_type": "stream",
     "text": [
      "00\n",
      "01\n",
      "10\n",
      "11\n"
     ]
    }
   ],
   "source": [
    "cnot_truth_table = {\"00\": \"00\", \"01\": \"00\", \"10\": \"00\", \"11\": \"00\"}\n",
    "\n",
    "for k,_ in cnot_truth_table.items():\n",
    "    cnot_truth_table[k] = np.binary_repr([1,0,0].index(1), width=num_wires)"
   ]
  },
  {
   "cell_type": "code",
   "execution_count": 174,
   "id": "f81ced52-c36d-4def-b8af-9b1f9b8a774b",
   "metadata": {},
   "outputs": [
    {
     "data": {
      "text/plain": [
       "1"
      ]
     },
     "execution_count": 174,
     "metadata": {},
     "output_type": "execute_result"
    }
   ],
   "source": [
    "num_wires = 2\n",
    "dev = qml.device(\"default.qubit\", wires=num_wires)\n",
    "\n",
    "\n",
    "@qml.qnode(dev)\n",
    "def apply_cnot(basis_id):\n",
    "    \"\"\"Apply a CNOT to |basis_id>.\n",
    "\n",
    "    Args:\n",
    "        basis_id (int): An integer value identifying the basis state to construct.\n",
    "\n",
    "    Returns:\n",
    "        np.array[complex]: The resulting state after applying CNOT|basis_id>.\n",
    "    \"\"\"\n",
    "\n",
    "    # Prepare the basis state |basis_id>\n",
    "    bits = [int(x) for x in np.binary_repr(basis_id, width=num_wires)]\n",
    "    qml.BasisState(bits, wires=[0, 1])\n",
    "\n",
    "    qml.CNOT(wires=[0,1])\n",
    "\n",
    "    return qml.state()\n",
    "\n",
    "cnot_truth_table = {\"00\": \"00\", \"01\": \"00\", \"10\": \"00\", \"11\": \"00\"}\n",
    "\n",
    "for k,_ in cnot_truth_table.items():\n",
    "    cnot_truth_table[k] = np.binary_repr(np.where(apply_cnot(int(k, 2))==1)[0][0], width=num_wires)"
   ]
  },
  {
   "cell_type": "code",
   "execution_count": null,
   "id": "b2056df8-e505-4389-932f-40157fe776ea",
   "metadata": {},
   "outputs": [],
   "source": [
    "dev = qml.device(\"default.qubit\", wires=3)\n",
    "\n",
    "# State of first 2 qubits\n",
    "state = [0, 1]\n",
    "\n",
    "\n",
    "@qml.qnode(device=dev)\n",
    "def apply_control_sequence(state):\n",
    "    # Set up initial state of the first two qubits\n",
    "    if state[0] == 1:\n",
    "        qml.PauliX(wires=0)\n",
    "    if state[1] == 1:\n",
    "        qml.PauliX(wires=1)\n",
    "\n",
    "    # Set up initial state of the third qubit - use |->\n",
    "    # so we can see the effect on the output\n",
    "    qml.PauliX(wires=2)\n",
    "    qml.Hadamard(wires=2)\n",
    "\n",
    "    ##################\n",
    "    # YOUR CODE HERE #\n",
    "    ##################\n",
    "\n",
    "    # IMPLEMENT THE MULTIPLEXER\n",
    "    # IF STATE OF FIRST TWO QUBITS IS 01, APPLY X TO THIRD QUBIT\n",
    "    qml.ctrl(qml.PauliX, control=[0, 1], control_values=[0, 1])(wires=2)\n",
    "\n",
    "    # IF STATE OF FIRST TWO QUBITS IS 10, APPLY Z TO THIRD QUBIT\n",
    "    qml.ctrl(qml.PauliZ, control=[0, 1], control_values=[1, 0])(wires=2)\n",
    "\n",
    "    # IF STATE OF FIRST TWO QUBITS IS 11, APPLY Y TO THIRD QUBIT\n",
    "    qml.ctrl(qml.PauliY, control=[0, 1], control_values=[1, 1])(wires=2)\n",
    "\n",
    "    return qml.state()\n",
    "\n",
    "\n",
    "print(apply_control_sequence(state))"
   ]
  }
 ],
 "metadata": {
  "kernelspec": {
   "display_name": "Python 3 (ipykernel)",
   "language": "python",
   "name": "python3"
  },
  "language_info": {
   "codemirror_mode": {
    "name": "ipython",
    "version": 3
   },
   "file_extension": ".py",
   "mimetype": "text/x-python",
   "name": "python",
   "nbconvert_exporter": "python",
   "pygments_lexer": "ipython3",
   "version": "3.12.3"
  }
 },
 "nbformat": 4,
 "nbformat_minor": 5
}
