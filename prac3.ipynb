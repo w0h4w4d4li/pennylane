{
 "cells": [
  {
   "cell_type": "code",
   "execution_count": 2,
   "id": "04df0909-6caa-432c-87b9-c99285a15532",
   "metadata": {},
   "outputs": [],
   "source": [
    "import pennylane as qml\n",
    "import numpy as np"
   ]
  },
  {
   "cell_type": "code",
   "execution_count": 34,
   "id": "23f5233f-70c3-454b-a399-ccff8fc87613",
   "metadata": {},
   "outputs": [
    {
     "data": {
      "text/plain": [
       "array([[False, False],\n",
       "       [False, False]])"
      ]
     },
     "execution_count": 34,
     "metadata": {},
     "output_type": "execute_result"
    }
   ],
   "source": [
    "\n",
    "matrix_1 = np.array([[1,1j],[-1j,1]])\n",
    "matrix_2 = np.array([[1,2],[3,4]])\n",
    "(np.transpose(np.conj(matrix_1)) == matrix_1) == 4"
   ]
  },
  {
   "cell_type": "code",
   "execution_count": 70,
   "id": "c1cb17f7-b637-43e3-84da-52e98e9fa191",
   "metadata": {},
   "outputs": [
    {
     "data": {
      "text/plain": [
       "numpy.float64"
      ]
     },
     "execution_count": 70,
     "metadata": {},
     "output_type": "execute_result"
    }
   ],
   "source": [
    "matrix_1 = np.array([[1/2,1/2],[1/2,1/2]])\n",
    "matrix_2 = np.array([[3/4,1/4],[1/4,1/4]])\n",
    "type(np.sum(np.linalg.eigvals(matrix_2)**2))"
   ]
  },
  {
   "cell_type": "code",
   "execution_count": 100,
   "id": "ecc47b97-c8df-4d04-bee8-650afb1d6702",
   "metadata": {},
   "outputs": [],
   "source": [
    "dev = qml.device(\"default.qubit\", wires=2)\n",
    "\n",
    "H = 1 / np.sqrt(2) * np.array([[1, 1], [1, -1]])\n",
    "\n",
    "@qml.qnode(dev)\n",
    "def circuit():\n",
    "    qml.Z(0)\n",
    "    qml.X(1)\n",
    "    return qml.probs(op=qml.Hermitian(H, wires=0))"
   ]
  },
  {
   "cell_type": "code",
   "execution_count": 99,
   "id": "f516d074-2cb6-4456-adc4-b4c01c3ab9a7",
   "metadata": {},
   "outputs": [
    {
     "data": {
      "text/plain": [
       "array([0.5, 0.5])"
      ]
     },
     "execution_count": 99,
     "metadata": {},
     "output_type": "execute_result"
    }
   ],
   "source": [
    "circuit()"
   ]
  },
  {
   "cell_type": "code",
   "execution_count": 95,
   "id": "ded5a219-7409-4766-9309-54b7ab5c53e3",
   "metadata": {},
   "outputs": [
    {
     "data": {
      "text/plain": [
       "8"
      ]
     },
     "execution_count": 95,
     "metadata": {},
     "output_type": "execute_result"
    }
   ],
   "source": [
    "combo=[0,1,0,0,0]\n",
    "np.ravel_multi_index(combo, [2]*len(combo))"
   ]
  },
  {
   "cell_type": "code",
   "execution_count": 25,
   "id": "9f944d13-53d0-4cca-808e-a9e606da6bf8",
   "metadata": {},
   "outputs": [
    {
     "data": {
      "text/plain": [
       "[[0, 0, 0], [0, 0, 1], [0, 1, 0], [0, 1, 1]]"
      ]
     },
     "execution_count": 25,
     "metadata": {},
     "output_type": "execute_result"
    }
   ],
   "source": [
    "[[int(s) for s in np.binary_repr(j, 3)] for j in range(2**2)]"
   ]
  }
 ],
 "metadata": {
  "kernelspec": {
   "display_name": "Python 3 (ipykernel)",
   "language": "python",
   "name": "python3"
  },
  "language_info": {
   "codemirror_mode": {
    "name": "ipython",
    "version": 3
   },
   "file_extension": ".py",
   "mimetype": "text/x-python",
   "name": "python",
   "nbconvert_exporter": "python",
   "pygments_lexer": "ipython3",
   "version": "3.12.3"
  }
 },
 "nbformat": 4,
 "nbformat_minor": 5
}
